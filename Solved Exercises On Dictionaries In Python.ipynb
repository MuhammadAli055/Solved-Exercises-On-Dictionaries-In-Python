{
 "cells": [
  {
   "cell_type": "markdown",
   "id": "10a4b0fa",
   "metadata": {},
   "source": [
    "# Create a dictionary to store information about a person (name, age, city, hobbies)."
   ]
  },
  {
   "cell_type": "code",
   "execution_count": 2,
   "id": "4dc498fe",
   "metadata": {},
   "outputs": [
    {
     "name": "stdout",
     "output_type": "stream",
     "text": [
      "{'Name': 'Muhammad Ali', 'Age': 19, 'City': 'Lahore', 'Hobbies': 'Coding'}\n"
     ]
    }
   ],
   "source": [
    "info={\n",
    "    'Name':\"Muhammad Ali\",\n",
    "    'Age':19,\n",
    "    'City':'Lahore',\n",
    "    'Hobbies':'Coding'\n",
    "}\n",
    "print(info)"
   ]
  },
  {
   "cell_type": "markdown",
   "id": "0fc212e6",
   "metadata": {},
   "source": [
    "# Write a program to count the frequency of words in a given text."
   ]
  },
  {
   "cell_type": "code",
   "execution_count": 6,
   "id": "eac35547",
   "metadata": {},
   "outputs": [
    {
     "name": "stdout",
     "output_type": "stream",
     "text": [
      "ali: 1\n",
      "my: 1\n",
      "hello: 2\n",
      "name: 1\n",
      "is: 1\n"
     ]
    }
   ],
   "source": [
    "text = 'hello','my','name','is','ali','hello'\n",
    "for word in set(text):\n",
    "    print(f\"{word}: {text.count(word)}\")\n"
   ]
  },
  {
   "cell_type": "markdown",
   "id": "a06739e2",
   "metadata": {},
   "source": [
    "# Implement a simple inventory system using dictionaries."
   ]
  },
  {
   "cell_type": "code",
   "execution_count": 9,
   "id": "191ec241",
   "metadata": {},
   "outputs": [
    {
     "name": "stdout",
     "output_type": "stream",
     "text": [
      "{'Mangoes': 80, 'Apples': 50, 'Grapes': 80, 'Pineapple': 55}\n"
     ]
    }
   ],
   "source": [
    "inventory={\n",
    "    'Mangoes':80,\n",
    "    'Apples':50,\n",
    "    'Grapes':60,\n",
    "    'Pineapple':35\n",
    "}\n",
    "inventory[\"Grapes\"]+=20\n",
    "inventory[\"Pineapple\"]+=20\n",
    "print(inventory)"
   ]
  },
  {
   "cell_type": "markdown",
   "id": "1f1622bd",
   "metadata": {},
   "source": [
    "# Analyze a dataset of customer orders to find the most popular product category."
   ]
  },
  {
   "cell_type": "code",
   "execution_count": 13,
   "id": "e014ff47",
   "metadata": {},
   "outputs": [
    {
     "name": "stdout",
     "output_type": "stream",
     "text": [
      "The most popular product category is 'Electronics' with 4 orders.\n"
     ]
    }
   ],
   "source": [
    "orders = [\n",
    "    (\"Electronics\"),\n",
    "    (\"Clothing\"),\n",
    "    (\"Electronics\"),\n",
    "    (\"Home & Kitchen\"),\n",
    "    (\"Clothing\"),\n",
    "    (\"Electronics\"),\n",
    "    (\"Toys\"),\n",
    "    (\"Home & Kitchen\"),\n",
    "    (\"Clothing\"),\n",
    "    (\"Clothing\"),\n",
    "    (\"Toys\"),\n",
    "    (\"Electronics\"),\n",
    "]\n",
    "category_counts = {}\n",
    "for order in orders:\n",
    "    if order in category_counts:\n",
    "        category_counts[order] += 1\n",
    "    else:\n",
    "        category_counts[order] = 1\n",
    "most_popular_category = None\n",
    "max_count = 0\n",
    "for category, count in category_counts.items():\n",
    "    if count > max_count:\n",
    "        most_popular_category = category\n",
    "        max_count = count\n",
    "print(f\"The most popular product category is '{most_popular_category}' with {max_count} orders.\")\n"
   ]
  },
  {
   "cell_type": "markdown",
   "id": "e6c5ed9c",
   "metadata": {},
   "source": [
    "# Create a dictionary to store student grades and calculate the average grade..."
   ]
  },
  {
   "cell_type": "code",
   "execution_count": 12,
   "id": "678dff9e",
   "metadata": {},
   "outputs": [
    {
     "name": "stdout",
     "output_type": "stream",
     "text": [
      "Average grade =91.0\n"
     ]
    }
   ],
   "source": [
    "grades={\n",
    "    'Ali':100,\n",
    "    'Mozzam':90,\n",
    "    'Wasif':85,\n",
    "    'Soman':89\n",
    "}\n",
    "total_sum=sum(grades.values())/len(grades)\n",
    "print(f\"Average grade ={total_sum}\")\n",
    "\n"
   ]
  },
  {
   "cell_type": "markdown",
   "id": "9fa39a73",
   "metadata": {},
   "source": [
    "#  Inventory Management:\n",
    "Create a dictionary to store product information: name, quantity, price.\n",
    "Implement functions to:\n",
    "Add new products\n",
    "Update product quantities\n",
    "Calculate total inventory value\n",
    "Generate a report of low-stock items"
   ]
  },
  {
   "cell_type": "code",
   "execution_count": 15,
   "id": "371f3d15",
   "metadata": {},
   "outputs": [
    {
     "name": "stdout",
     "output_type": "stream",
     "text": [
      "Total Inventory Value: $326.00\n",
      "\n",
      "Low Stock Items:\n",
      "Mango (Code: mango) - Quantity: 30\n"
     ]
    }
   ],
   "source": [
    "inventory = {}\n",
    "\n",
    "inventory[\"apple\"] = {\"name\": \"Apple\", \"quantity\": 100, \"price\": 0.5}\n",
    "inventory[\"banana\"] = {\"name\": \"Banana\", \"quantity\": 200, \"price\": 0.2}\n",
    "inventory[\"orange\"] = {\"name\": \"Orange\", \"quantity\": 50, \"price\": 0.7}\n",
    "inventory[\"grape\"] = {\"name\": \"Grape\", \"quantity\": 120, \"price\": 1.2}\n",
    "inventory[\"mango\"] = {\"name\": \"Mango\", \"quantity\": 30, \"price\": 1.5}\n",
    "\n",
    "\n",
    "inventory[\"apple\"][\"quantity\"] += 30  \n",
    "inventory[\"orange\"][\"quantity\"] += 10  \n",
    "inventory[\"banana\"][\"quantity\"] -= 50  \n",
    "\n",
    "\n",
    "total_value = 0\n",
    "for product in inventory.values():\n",
    "    total_value += product[\"quantity\"] * product[\"price\"]\n",
    "\n",
    "\n",
    "print(f\"Total Inventory Value: ${total_value:.2f}\")\n",
    "\n",
    "\n",
    "low_stock_threshold = 50\n",
    "print(\"\\nLow Stock Items:\")\n",
    "for product_code, product_info in inventory.items():\n",
    "    if product_info[\"quantity\"] < low_stock_threshold:\n",
    "        print(f\"{product_info['name']} (Code: {product_code}) - Quantity: {product_info['quantity']}\")\n"
   ]
  },
  {
   "cell_type": "markdown",
   "id": "e5c70c7c",
   "metadata": {},
   "source": [
    "# Student Gradebook:\n",
    "Create a dictionary to store student information: name, grades for different subjects.\n",
    "Calculate the average grade for each student.\n",
    "Find the highest and lowest grades in a specific subject.\n",
    "Sort students by their average grades."
   ]
  },
  {
   "cell_type": "code",
   "execution_count": 16,
   "id": "a1805f27",
   "metadata": {},
   "outputs": [
    {
     "name": "stdout",
     "output_type": "stream",
     "text": [
      "Student Averages:\n",
      "Soman: 88.33\n",
      "Mozzam: 81.67\n",
      "Ali: 86.33\n",
      "Wasif: 91.67\n",
      "\n",
      "Highest grade in math: Ali (90)\n",
      "Lowest grade in math: Mozzam (78)\n",
      "\n",
      "Students sorted by average grade:\n",
      "Wasif: 91.67\n",
      "Soman: 88.33\n",
      "Ali: 86.33\n",
      "Mozzam: 81.67\n"
     ]
    }
   ],
   "source": [
    "gradebook = {\n",
    "    \"Soman\": {\"math\": 85, \"english\": 92, \"science\": 88},\n",
    "    \"Mozzam\": {\"math\": 78, \"english\": 85, \"science\": 82},\n",
    "    \"Ali\": {\"math\": 90, \"english\": 80, \"science\": 89},\n",
    "    \"Wasif\": {\"math\": 88, \"english\": 92, \"science\": 95}\n",
    "}\n",
    "\n",
    "averages = {}\n",
    "for student, grades in gradebook.items():\n",
    "    average = sum(grades.values()) / len(grades)\n",
    "    averages[student] = average\n",
    "\n",
    "subject = \"math\"\n",
    "grades_in_subject = {student: grades[subject] for student, grades in gradebook.items()}\n",
    "\n",
    "highest_grade_student = max(grades_in_subject, key=grades_in_subject.get)\n",
    "lowest_grade_student = min(grades_in_subject, key=grades_in_subject.get)\n",
    "\n",
    "sorted_students = sorted(averages.items(), key=lambda x: x[1], reverse=True)\n",
    "\n",
    "print(\"Student Averages:\")\n",
    "for student, avg in averages.items():\n",
    "    print(f\"{student}: {avg:.2f}\")\n",
    "\n",
    "print(f\"\\nHighest grade in {subject}: {highest_grade_student} ({grades_in_subject[highest_grade_student]})\")\n",
    "print(f\"Lowest grade in {subject}: {lowest_grade_student} ({grades_in_subject[lowest_grade_student]})\")\n",
    "\n",
    "print(\"\\nStudents sorted by average grade:\")\n",
    "for student, avg in sorted_students:\n",
    "    print(f\"{student}: {avg:.2f}\")\n"
   ]
  },
  {
   "cell_type": "markdown",
   "id": "09befdac-dc0d-436e-890c-7b2d493f366b",
   "metadata": {},
   "source": [
    "# Simple E-commerce Store:\r\n",
    "Create a dictionary to store product information: name, price, quantity.\r\n",
    "Implement a shopping cart feature where users can add and remove products.\r\n",
    "Calculate the total cost of items in the cart.\r\n",
    "Apply discounts and taxes to the total cost."
   ]
  },
  {
   "cell_type": "code",
   "execution_count": 1,
   "id": "c5d954ad-0eac-46eb-942f-ae307f2cb987",
   "metadata": {},
   "outputs": [
    {
     "name": "stdout",
     "output_type": "stream",
     "text": [
      "\n",
      "1. Display Products\n",
      "2. Add to Cart\n",
      "3. Remove from Cart\n",
      "4. View Cart\n",
      "5. Checkout\n",
      "6. Exit\n"
     ]
    },
    {
     "name": "stdin",
     "output_type": "stream",
     "text": [
      "Enter your choice:  1\n"
     ]
    },
    {
     "name": "stdout",
     "output_type": "stream",
     "text": [
      "\n",
      "Available Products:\n",
      "ID: 1, Name: Laptop, Price: 50000, Stock: 10\n",
      "ID: 2, Name: Phone, Price: 20000, Stock: 20\n",
      "ID: 3, Name: Headphones, Price: 5000, Stock: 15\n",
      "\n",
      "1. Display Products\n",
      "2. Add to Cart\n",
      "3. Remove from Cart\n",
      "4. View Cart\n",
      "5. Checkout\n",
      "6. Exit\n"
     ]
    },
    {
     "name": "stdin",
     "output_type": "stream",
     "text": [
      "Enter your choice:  2\n",
      "Enter product ID:  1\n",
      "Enter quantity:  2\n"
     ]
    },
    {
     "name": "stdout",
     "output_type": "stream",
     "text": [
      "Added 2 x Laptop to the cart.\n",
      "\n",
      "1. Display Products\n",
      "2. Add to Cart\n",
      "3. Remove from Cart\n",
      "4. View Cart\n",
      "5. Checkout\n",
      "6. Exit\n"
     ]
    },
    {
     "name": "stdin",
     "output_type": "stream",
     "text": [
      "Enter your choice:  4\n"
     ]
    },
    {
     "name": "stdout",
     "output_type": "stream",
     "text": [
      "\n",
      "Your Cart:\n",
      "Name: Laptop, Price: 50000, Quantity: 2\n",
      "\n",
      "1. Display Products\n",
      "2. Add to Cart\n",
      "3. Remove from Cart\n",
      "4. View Cart\n",
      "5. Checkout\n",
      "6. Exit\n"
     ]
    },
    {
     "name": "stdin",
     "output_type": "stream",
     "text": [
      "Enter your choice:  3\n",
      "Enter product ID:  1\n",
      "Enter quantity to remove:  1\n"
     ]
    },
    {
     "name": "stdout",
     "output_type": "stream",
     "text": [
      "Removed 1 x Laptop from the cart.\n",
      "\n",
      "1. Display Products\n",
      "2. Add to Cart\n",
      "3. Remove from Cart\n",
      "4. View Cart\n",
      "5. Checkout\n",
      "6. Exit\n"
     ]
    },
    {
     "name": "stdin",
     "output_type": "stream",
     "text": [
      "Enter your choice:  5\n",
      "Enter discount percentage:  10\n",
      "Enter tax percentage:  5\n"
     ]
    },
    {
     "name": "stdout",
     "output_type": "stream",
     "text": [
      "Total cost after discount and tax: 47250.00\n",
      "\n",
      "1. Display Products\n",
      "2. Add to Cart\n",
      "3. Remove from Cart\n",
      "4. View Cart\n",
      "5. Checkout\n",
      "6. Exit\n"
     ]
    },
    {
     "name": "stdin",
     "output_type": "stream",
     "text": [
      "Enter your choice:  6\n"
     ]
    },
    {
     "name": "stdout",
     "output_type": "stream",
     "text": [
      "Thank you for shopping!\n"
     ]
    }
   ],
   "source": [
    "products = {\n",
    "    1: {\"name\": \"Laptop\", \"price\": 50000, \"quantity\": 10},\n",
    "    2: {\"name\": \"Phone\", \"price\": 20000, \"quantity\": 20},\n",
    "    3: {\"name\": \"Headphones\", \"price\": 5000, \"quantity\": 15}\n",
    "}\n",
    "\n",
    "\n",
    "cart = {}\n",
    "\n",
    "while True:\n",
    "    print(\"\\n1. Display Products\")\n",
    "    print(\"2. Add to Cart\")\n",
    "    print(\"3. Remove from Cart\")\n",
    "    print(\"4. View Cart\")\n",
    "    print(\"5. Checkout\")\n",
    "    print(\"6. Exit\")\n",
    "    choice = int(input(\"Enter your choice: \"))\n",
    "\n",
    "    if choice == 1:\n",
    "        print(\"\\nAvailable Products:\")\n",
    "        for pid in products:\n",
    "            print(f\"ID: {pid}, Name: {products[pid]['name']}, Price: {products[pid]['price']}, Stock: {products[pid]['quantity']}\")\n",
    "    \n",
    "\n",
    "    elif choice == 2:\n",
    "        pid = int(input(\"Enter product ID: \"))\n",
    "        qty = int(input(\"Enter quantity: \"))\n",
    "        if pid in products and products[pid][\"quantity\"] >= qty:\n",
    "            if pid in cart:\n",
    "                cart[pid][\"quantity\"] += qty\n",
    "            else:\n",
    "                cart[pid] = {\n",
    "                    \"name\": products[pid][\"name\"],\n",
    "                    \"price\": products[pid][\"price\"],\n",
    "                    \"quantity\": qty\n",
    "                }\n",
    "            products[pid][\"quantity\"] -= qty\n",
    "            print(f\"Added {qty} x {products[pid]['name']} to the cart.\")\n",
    "        else:\n",
    "            print(\"Invalid product ID or insufficient stock.\")\n",
    "    \n",
    "\n",
    "    elif choice == 3:\n",
    "        pid = int(input(\"Enter product ID: \"))\n",
    "        qty = int(input(\"Enter quantity to remove: \"))\n",
    "        if pid in cart and cart[pid][\"quantity\"] >= qty:\n",
    "            cart[pid][\"quantity\"] -= qty\n",
    "            if cart[pid][\"quantity\"] == 0:\n",
    "                del cart[pid]\n",
    "            products[pid][\"quantity\"] += qty\n",
    "            print(f\"Removed {qty} x {products[pid]['name']} from the cart.\")\n",
    "        else:\n",
    "            print(\"Invalid product ID or insufficient quantity in the cart.\")\n",
    "    \n",
    "\n",
    "    elif choice == 4:\n",
    "        print(\"\\nYour Cart:\")\n",
    "        for pid in cart:\n",
    "            print(f\"Name: {cart[pid]['name']}, Price: {cart[pid]['price']}, Quantity: {cart[pid]['quantity']}\")\n",
    "    \n",
    "\n",
    "    elif choice == 5:\n",
    "        discount = float(input(\"Enter discount percentage: \"))\n",
    "        tax = float(input(\"Enter tax percentage: \"))\n",
    "        total = 0\n",
    "        for pid in cart:\n",
    "            total += cart[pid][\"price\"] * cart[pid][\"quantity\"]\n",
    "        total_after_discount = total * (1 - discount / 100)\n",
    "        total_with_tax = total_after_discount * (1 + tax / 100)\n",
    "        print(f\"Total cost after discount and tax: {total_with_tax:.2f}\")\n",
    "    \n",
    "\n",
    "    elif choice == 6:\n",
    "        print(\"Thank you for shopping!\")\n",
    "        break\n",
    "    \n",
    "\n",
    "    else:\n",
    "        print(\"Invalid choice, please try again.\")\n"
   ]
  }
 ],
 "metadata": {
  "kernelspec": {
   "display_name": "Python 3 (ipykernel)",
   "language": "python",
   "name": "python3"
  },
  "language_info": {
   "codemirror_mode": {
    "name": "ipython",
    "version": 3
   },
   "file_extension": ".py",
   "mimetype": "text/x-python",
   "name": "python",
   "nbconvert_exporter": "python",
   "pygments_lexer": "ipython3",
   "version": "3.12.4"
  }
 },
 "nbformat": 4,
 "nbformat_minor": 5
}
